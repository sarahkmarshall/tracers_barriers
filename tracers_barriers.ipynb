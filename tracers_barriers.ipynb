{
 "cells": [
  {
   "cell_type": "markdown",
   "metadata": {},
   "source": [
    "# Tracers and barriers paper\n",
    "\n",
    "Tracers and Barriers paper\n",
    "\n",
    "This script is for the generation of flow model input files, running the flow model, and the generation of transport model input files & running the transport model.\n",
    "\n",
    "THEN --> post-process the data using the post-processing (tracers_barriers_PP.py) script.\n",
    "\n",
    "## Case Study (CS) & recharge descriptions\n",
    "\n",
    "CS1 is with no barrier.\n",
    "CS2 is fully-penetrating barrier.\n",
    "CS3 is buried barrier.\n",
    "\n",
    "Recharge 1 = Diffuse recharge across the whole aquifer.\n",
    "Recharge 2 = Upgradient (mountain-front) recharge only."
   ]
  },
  {
   "cell_type": "markdown",
   "metadata": {},
   "source": [
    "## Importing packages"
   ]
  },
  {
   "cell_type": "code",
   "execution_count": 34,
   "metadata": {},
   "outputs": [
    {
     "name": "stdout",
     "output_type": "stream",
     "text": [
      "3.7.4 (default, Aug  9 2019, 18:34:13) [MSC v.1915 64 bit (AMD64)]\n",
      "numpy version: 1.16.5\n",
      "matplotlib version: 3.2.2\n",
      "pandas version: 0.25.1\n",
      "flopy version: 3.3.4\n"
     ]
    }
   ],
   "source": [
    "import numpy as np\n",
    "import matplotlib as mpl\n",
    "import flopy\n",
    "from flopy import mt3d\n",
    "import pandas as pd\n",
    "import subprocess\n",
    "import os\n",
    "import time\n",
    "import sys\n",
    "import datetime\n",
    "from decimal import Decimal\n",
    "\n",
    "print(sys.version)\n",
    "print('numpy version: {}'.format(np.__version__))\n",
    "print('matplotlib version: {}'.format(mpl.__version__))\n",
    "print('pandas version: {}'.format(pd.__version__))\n",
    "print('flopy version: {}'.format(flopy.__version__))"
   ]
  },
  {
   "cell_type": "markdown",
   "metadata": {},
   "source": [
    "## Setting up directories"
   ]
  },
  {
   "cell_type": "code",
   "execution_count": 35,
   "metadata": {},
   "outputs": [],
   "source": [
    "modelName           = \"TB_01\"\n",
    "modelName_mt3d      = \"%s_mt3d\"%modelName"
   ]
  },
  {
   "cell_type": "code",
   "execution_count": 36,
   "metadata": {},
   "outputs": [
    {
     "name": "stdout",
     "output_type": "stream",
     "text": [
      "Flow model name is: TB_01, transport model name is: TB_01_mt3d\n"
     ]
    }
   ],
   "source": [
    "print(\"Flow model name is: %s, transport model name is: %s\" %(modelName, modelName_mt3d))"
   ]
  },
  {
   "cell_type": "code",
   "execution_count": 37,
   "metadata": {},
   "outputs": [
    {
     "name": "stdout",
     "output_type": "stream",
     "text": [
      "Project folder is: C:\\Users\\mar886\\WaterTableProject\\TracersBarriers\\tracers_barriers\n"
     ]
    }
   ],
   "source": [
    "MODFLOW_folder      = 'MODFLOW-NWT_64.exe'\n",
    "\n",
    "project_folder      = os.getcwd()\n",
    "MT3D_USGS_folder    = 'mt3d-usgs_1.1.0_64.exe'\n",
    "mt3d_version        = 'mt3d-usgs' \n",
    "\n",
    "print(\"Project folder is: %s\" %project_folder)"
   ]
  },
  {
   "cell_type": "code",
   "execution_count": 38,
   "metadata": {},
   "outputs": [
    {
     "name": "stdout",
     "output_type": "stream",
     "text": [
      "This model folder is: C:\\Users\\mar886\\WaterTableProject\\TracersBarriers\\tracers_barriers\n",
      "The data directory is: C:\\Users\\mar886\\WaterTableProject\\TracersBarriers\\tracers_barriers\\Data\n",
      "Directory to save figures: C:\\Users\\mar886\\WaterTableProject\\TracersBarriers\\tracers_barriers\\Figures\n"
     ]
    }
   ],
   "source": [
    "this_model_folder = project_folder  # Can make a new subfolder to save model output elsewhere\n",
    "if not os.path.exists(this_model_folder):\n",
    "    os.makedirs(this_model_folder)\n",
    "    \n",
    "print(\"This model folder is: %s\" %this_model_folder)\n",
    "\n",
    "dataDirectory = os.path.join(this_model_folder, \"Data\")\n",
    "if not os.path.exists(dataDirectory):\n",
    "    os.makedirs(dataDirectory)\n",
    "    \n",
    "print(\"The data directory is: %s\" %dataDirectory)\n",
    "\n",
    "figureDirectory = os.path.join(this_model_folder, \"Figures\")\n",
    "if not os.path.exists(figureDirectory):\n",
    "    os.makedirs(figureDirectory)\n",
    "\n",
    "print(\"Directory to save figures: %s\" %figureDirectory)"
   ]
  },
  {
   "cell_type": "markdown",
   "metadata": {},
   "source": [
    "## Model discretisation"
   ]
  },
  {
   "cell_type": "code",
   "execution_count": 39,
   "metadata": {},
   "outputs": [],
   "source": [
    "nlay = 12                    # Number of layers.\n",
    "Lx = 10000.                  # Length of the model sides in metres.\n",
    "Ly = 5000                    # Rectangular domain.\n",
    "delr = 25.                   # Spacing length across rows in metres.\n",
    "delc = delr                  # The spacing along columns and rows are equal.\n",
    "ncol = int(Lx/delr)          # Number of columns.\n",
    "nrow = int(Ly/delc)          # Number of rows.\n",
    "ncells = nlay*ncol*nrow      # Total number of cells in the model.\n",
    "ncells_per_layer = ncol*nrow # Number of cells per layer.\n",
    "surface_area = Lx*Ly         # m^2\n",
    "\n",
    "ztop = 300.                  # Top of model.\n",
    "zbot = 0.                    # Base of model.\n",
    "delv = (ztop - zbot) / nlay  # Length of cells in z direction.\n",
    "botm = np.linspace(ztop, zbot, nlay + 1) "
   ]
  },
  {
   "cell_type": "markdown",
   "metadata": {},
   "source": [
    "## Hydraulic properties"
   ]
  },
  {
   "cell_type": "code",
   "execution_count": 40,
   "metadata": {},
   "outputs": [],
   "source": [
    "sHead = 290                  # Starting head across aquifer.\n",
    "\n",
    "sy = 0.1                     # Specific yield.\n",
    "ss = sy/ztop                 # Specific storage.\n",
    "laytyp = 1                   # Layer type (1 = convertible; 0 = confined).\n",
    "\n",
    "hk_aquifer = 1.              # Hydraulic conductvity along rows (m/day).\n",
    "vka = hk_aquifer/10.         # Vertical hydraulic conductivity.\n",
    "\n",
    "prsity = sy\n",
    "tortuosity_factor = 0.09\n",
    "\n",
    "recharge_flux = 1.3699e-5    # m/d This is equivalent to 5 mm per year.\n",
    "total_recharge = recharge_flux*surface_area # m^3 per day.\n",
    "total_recharge_per_y = total_recharge*365.25 # m^3 per year.\n",
    "\n",
    "length_simulation = 1        # Length of the steady-state flow model (days). "
   ]
  },
  {
   "cell_type": "markdown",
   "metadata": {},
   "source": [
    "## Barrier characteristics"
   ]
  },
  {
   "cell_type": "code",
   "execution_count": 41,
   "metadata": {},
   "outputs": [
    {
     "name": "stdout",
     "output_type": "stream",
     "text": [
      "0\n"
     ]
    }
   ],
   "source": [
    "hk_barrier           = hk_aquifer/1000 # m/d 3 orders of magnitude lower than the aquifer.\n",
    "barrier_width        = 50 # m\n",
    "number_barrier_cols  = barrier_width/delr  # So we can test/change the grid spacing.\n",
    "column_of_barrier    = []\n",
    "\n",
    "if number_barrier_cols == 1:\n",
    "    column_of_barrier.append(int(ncol/2)) \n",
    "elif number_barrier_cols%2 == 0: # Even number\n",
    "    for i in range(int(number_barrier_cols/2)):\n",
    "        a = int(number_barrier_cols/2) - i\n",
    "        column_of_barrier.append(int(ncol/2)-a)\n",
    "\n",
    "    for i in range(int(number_barrier_cols/2)):\n",
    "        print(i)\n",
    "        column_of_barrier.append(int(ncol/2)+i)\n",
    "else: # Odd number        \n",
    "    for i in range(int(number_barrier_cols/2)):\n",
    "        a = int(number_barrier_cols/2) - i\n",
    "        column_of_barrier.append(int(ncol/2)-a)\n",
    "\n",
    "    for i in range(int(number_barrier_cols/2)):\n",
    "        print(i)\n",
    "        column_of_barrier.append(int(ncol/2)+i)\n",
    "\n",
    "    column_of_barrier.append(int(ncol/2)+int(number_barrier_cols/2))\n",
    "    \n",
    "percentage_gap        = 10 # CS2 \n",
    "first_row_barr        = int(nrow/percentage_gap) # CS2 \n",
    "last_row_barr         = int(nrow-(nrow/percentage_gap)) # CS2 \n",
    "start_lay_barr        = int(nlay/2) # CS3\n",
    "end_lay_barr          = nlay # CS3"
   ]
  },
  {
   "cell_type": "markdown",
   "metadata": {},
   "source": [
    "## Making the hydraulic conductivity arrays"
   ]
  },
  {
   "cell_type": "code",
   "execution_count": 42,
   "metadata": {},
   "outputs": [],
   "source": [
    "number_of_casestudies = 3"
   ]
  },
  {
   "cell_type": "markdown",
   "metadata": {},
   "source": [
    "Case Study 1: No barrier"
   ]
  },
  {
   "cell_type": "code",
   "execution_count": 43,
   "metadata": {},
   "outputs": [],
   "source": [
    "hk_array_1 = hk_aquifer * np.ones((nlay, nrow, ncol), dtype=np.float32)      "
   ]
  },
  {
   "cell_type": "markdown",
   "metadata": {},
   "source": [
    "Case Study 2: Fully-penetrating barrier"
   ]
  },
  {
   "cell_type": "code",
   "execution_count": 44,
   "metadata": {},
   "outputs": [],
   "source": [
    "hk_array_2 = hk_aquifer * np.ones((nlay, nrow, ncol), dtype=np.float32)     \n",
    "  \n",
    "for il in range(nlay):\n",
    "    for ir in range(first_row_barr, last_row_barr, 1): \n",
    "        for col_number in range(len(column_of_barrier)):\n",
    "            hk_array_2[il, ir, column_of_barrier[col_number]] = hk_barrier "
   ]
  },
  {
   "cell_type": "markdown",
   "metadata": {},
   "source": [
    "Case Study 3: Buried barrier"
   ]
  },
  {
   "cell_type": "code",
   "execution_count": 45,
   "metadata": {},
   "outputs": [],
   "source": [
    "hk_array_3 = hk_aquifer * np.ones((nlay, nrow, ncol), dtype=np.float32)     \n",
    "\n",
    "for il in range(start_lay_barr, end_lay_barr):\n",
    "    for ir in range(nrow): \n",
    "        for col_number in range(len(column_of_barrier)):\n",
    "            hk_array_3[il, ir, column_of_barrier[col_number]] = hk_barrier "
   ]
  },
  {
   "cell_type": "markdown",
   "metadata": {},
   "source": [
    "## Recharge characteristics"
   ]
  },
  {
   "cell_type": "code",
   "execution_count": 46,
   "metadata": {},
   "outputs": [],
   "source": [
    "number_of_recharge_scenarios = 2"
   ]
  },
  {
   "cell_type": "markdown",
   "metadata": {},
   "source": [
    "Recharge array 1 = diffuse recharge across the whole aquifer in equal amounts."
   ]
  },
  {
   "cell_type": "code",
   "execution_count": 47,
   "metadata": {},
   "outputs": [],
   "source": [
    "recharge_array_1 = recharge_flux * np.ones((nrow, ncol), dtype=np.float32)"
   ]
  },
  {
   "cell_type": "markdown",
   "metadata": {},
   "source": [
    "Recharge array 2 = recharge across only the top of the catchment.\n",
    "Recharge across all rows, across first 50 columns (One quarter of catchment)."
   ]
  },
  {
   "cell_type": "code",
   "execution_count": 48,
   "metadata": {},
   "outputs": [],
   "source": [
    "n_cols_rech_2    = int(ncol/4)\n",
    "n_cells_rech_2   = int(n_cols_rech_2*nrow)\n",
    "SA_recharge_2    = Ly*n_cols_rech_2*delc # Surface area (m^2)\n",
    "recharge_flux_2  = total_recharge/SA_recharge_2 # m/d\n",
    "\n",
    "recharge_array_2 = np.zeros((nrow, ncol), dtype=np.float32)\n",
    "\n",
    "for c in range(n_cols_rech_2):  # Applying recharge to every row to the columns specified.\n",
    "    for r in range(nrow): \n",
    "        recharge_array_2[r, c] = recharge_flux_2"
   ]
  },
  {
   "cell_type": "markdown",
   "metadata": {},
   "source": [
    "## Boundary conditions"
   ]
  },
  {
   "cell_type": "markdown",
   "metadata": {},
   "source": [
    "General head boundary on the right-hand side.\n",
    "No boundary on the left-hand side so use default condition which is a no-flow boundary."
   ]
  },
  {
   "cell_type": "code",
   "execution_count": 49,
   "metadata": {},
   "outputs": [
    {
     "name": "stdout",
     "output_type": "stream",
     "text": [
      "Adding  2400 GHBs for stress period 1.\n"
     ]
    }
   ],
   "source": [
    "stageleft  = float(sHead)\n",
    "stageright = float(sHead)\n",
    "\n",
    "bound_sp1  = []\n",
    "for il in range(nlay):\n",
    "\n",
    "    condright = (hk_aquifer * (stageright - zbot) * delc)/10\n",
    "\n",
    "    for ir in range(nrow):\n",
    "        bound_sp1.append([il, ir, ncol - 1, stageright, condright])\n",
    "\n",
    "print('Adding ', len(bound_sp1), 'GHBs for stress period 1.')\n",
    "\n",
    "ghb_spd = {0: bound_sp1}    "
   ]
  },
  {
   "cell_type": "markdown",
   "metadata": {},
   "source": [
    "Specifying starting heads"
   ]
  },
  {
   "cell_type": "code",
   "execution_count": 50,
   "metadata": {},
   "outputs": [],
   "source": [
    "if nlay == 1:\n",
    "    ibound = np.ones((nrow, ncol), dtype=np.int32)\n",
    "    strt = sHead * np.ones((nrow, ncol), dtype=np.float32)\n",
    "\n",
    "else:\n",
    "    ibound = np.ones((nlay, nrow, ncol), dtype=np.int32)\n",
    "    strt = sHead * np.ones((nlay, nrow, ncol), dtype=np.float32) \n",
    "   "
   ]
  },
  {
   "cell_type": "markdown",
   "metadata": {},
   "source": [
    "## Stress periods"
   ]
  },
  {
   "cell_type": "markdown",
   "metadata": {},
   "source": [
    "1 Stress period: steady state only "
   ]
  },
  {
   "cell_type": "code",
   "execution_count": 51,
   "metadata": {},
   "outputs": [
    {
     "name": "stdout",
     "output_type": "stream",
     "text": [
      "One steady-state stress periods set up\n"
     ]
    }
   ],
   "source": [
    "nper   = 1 # Number of model stress periods.\n",
    "perlen = [length_simulation] \n",
    "\n",
    "nstp   = [1] # Number of time steps in each stress period.\n",
    "tsmult = [1]\n",
    "steady = [True] # True = steady state.\n",
    "\n",
    "print(\"One steady-state stress periods set up\")"
   ]
  },
  {
   "cell_type": "markdown",
   "metadata": {},
   "source": [
    "## Input files and running flow model\n",
    "\n",
    "Running multiple model scenarios:\n",
    "         \n",
    "* 1st:   Different recharge scenarios.\n",
    "     \n",
    "* 2nd:   Different case studies, representing the different hydraulic conductivities (barrier configurations).\n"
   ]
  },
  {
   "cell_type": "code",
   "execution_count": 52,
   "metadata": {},
   "outputs": [
    {
     "name": "stdout",
     "output_type": "stream",
     "text": [
      "The total number of scenarios is: 6\n"
     ]
    }
   ],
   "source": [
    "print(\"The total number of scenarios is: %s\" %(\n",
    "                        number_of_recharge_scenarios*number_of_casestudies))"
   ]
  },
  {
   "cell_type": "markdown",
   "metadata": {},
   "source": [
    "## Function to set up and run the flow model\n",
    "\n",
    "Need to be careful whether I am adding 1 to recharge scenario and case study or not, I have changed things around a bit. "
   ]
  },
  {
   "cell_type": "code",
   "execution_count": 53,
   "metadata": {},
   "outputs": [
    {
     "name": "stdout",
     "output_type": "stream",
     "text": [
      "TB_01_mt3d\n"
     ]
    }
   ],
   "source": [
    "print(modelName_mt3d)"
   ]
  },
  {
   "cell_type": "code",
   "execution_count": 54,
   "metadata": {},
   "outputs": [],
   "source": [
    "def flow_model(rechargeScenario, caseStudy):\n",
    "    \n",
    "    modelname = str(modelName) + \"_R\" + str(rechargeScenario) + \"_CS\" + str(caseStudy)\n",
    "    print(\"Flow model name: \" + str(modelname))\n",
    "        \n",
    "    modelname_mt3d = modelName_mt3d + \"_R\" + str(rechargeScenario) + \"_CS\" + str(caseStudy)\n",
    "    print(\"Transport model name: \" + str(modelname_mt3d))\n",
    "    \n",
    "    mf = flopy.modflow.Modflow(modelname, exe_name=MODFLOW_folder, version='mfnwt') # MODFLOW-NWT\n",
    "    \n",
    "    dis = flopy.modflow.ModflowDis(mf, nlay, nrow, ncol, delr=delr, \n",
    "                                        delc=delc,top=ztop, botm=botm[1:],\n",
    "                                        tsmult = tsmult, nper=nper, perlen=perlen, \n",
    "                                        nstp=nstp, steady=steady)\n",
    "        \n",
    "    print(\"Discretisation module set up\")\n",
    "       \n",
    "    # Which hydraulic conductivity array do I use, depending on which scenario is applied:\n",
    "        \n",
    "    if caseStudy == 1:\n",
    "        hk_array = hk_array_1\n",
    "        print(\"Setting up hk array for Case Study 1\")\n",
    "            \n",
    "    elif caseStudy == 2:\n",
    "        hk_array = hk_array_2\n",
    "        print(\"Setting up hk array for Case Study 2\")\n",
    "                   \n",
    "    elif caseStudy == 3:\n",
    "        hk_array = hk_array_3\n",
    "        print(\"Setting up hk array for Case Study 3\")\n",
    "        \n",
    "    else:\n",
    "        print(\"This case study is not a viable option, choose a value from 1 to 3\")\n",
    "    \n",
    "    uwp = flopy.modflow.mfupw.ModflowUpw(mf, hk=hk_array, vka=vka, sy=sy, ss=ss, ipakcb=53, iphdry = 53,\n",
    "                                                 laytyp=laytyp) # MODFLOW- NWT\n",
    "    print(\"Upstream weighting package set up\")\n",
    "        \n",
    "    # --- Solver --- #\n",
    "            \n",
    "    nwt = flopy.modflow.mfnwt.ModflowNwt(mf, headtol=1e-05, maxiterout=200, \n",
    "                        thickfact=1e-07, linmeth=2, iprnwt=1, ibotav=1, options='SPECIFIED', \n",
    "                        Continue=True, dbdtheta=0.9, dbdkappa=1e-05, dbdgamma=0.0, momfact=0.1, \n",
    "                        backflag=1, maxbackiter=30, backtol=1.05, backreduce=0.9, maxitinner=50, \n",
    "                        ilumethod=2, levfill=5, stoptol=1e-10, msdr=15, iacl=2, norder=1, level=3, \n",
    "                        north=7, iredsys=1, rrctols=0.0, idroptol=1, epsrn=0.0001, \n",
    "                        hclosexmd=0.0001, mxiterxmd=200) # MODFLOW- NWT fluxtol=1e-3, \n",
    "                                                   \n",
    "    print(\"Newton solver set up\")\n",
    "        \n",
    "    # --- Recharge --- #\n",
    "        \n",
    "    if rechargeScenario == 1:\n",
    "        recharge_array = recharge_array_1\n",
    "        print(\"Setting up recharge array for Recharge Scenario 1\")\n",
    "    \n",
    "    elif rechargeScenario == 2:\n",
    "        recharge_array = recharge_array_2\n",
    "        print(\"Setting up recharge array for Recharge Scenario 2\")\n",
    "\n",
    "    else:\n",
    "        print(\"This Recharge Scenario is not a viable option, choose a value from 1 to 2\")\n",
    "    \n",
    "    rch = flopy.modflow.ModflowRch(mf, rech=recharge_array)\n",
    "        \n",
    "    print(\"Recharge package set up\")\n",
    "        \n",
    "    # --- General head boundaries --- #\n",
    "        \n",
    "    ghb = flopy.modflow.ModflowGhb(mf, stress_period_data=ghb_spd)\n",
    "        \n",
    "    print(\"General head boundary package set up\")\n",
    "        \n",
    "    # --- SETTING UP THE OUTPUT CONTROL --- #\n",
    "        \n",
    "    spd = {}\n",
    "    for strsp in range(nper):\n",
    "        tmstp = nstp[strsp]\n",
    "        for t in range(tmstp):\n",
    "            spd[strsp, t] = ['save budget', 'print budget', 'save head'] \n",
    "                                       \n",
    "    oc = flopy.modflow.ModflowOc(mf, stress_period_data=spd, compact=True)\n",
    "        \n",
    "    print(\"Output control package set up\")\n",
    "        \n",
    "    # --- SETTING UP BASIC PACKAGE, IBOUND --- #\n",
    "        \n",
    "    bas = flopy.modflow.ModflowBas(mf, ibound=1., strt=float(sHead), \n",
    "                                       ifrefm=True, ixsec=False, hnoflo=-999.99)\n",
    "        \n",
    "    print(\"Basic package set up\") \n",
    "        \n",
    "    # --- LINKING FILE --- #\n",
    "        \n",
    "    # Set up the linking file for output from flow model to be used in transport model\n",
    "    lmt = flopy.modflow.ModflowLmt(mf, output_file_name= (modelname + str('_mt3dLink.ftl')),\n",
    "                                       output_file_header='extended',\n",
    "                                       output_file_format='unformatted')   \n",
    "                                        \n",
    "    print(\"Link-Mass Transport package set up\") \n",
    "        \n",
    "    # --- NOW I NEED TO COMPILE AND WRITE ALL OF THE INPUT FILES --- #\n",
    "          \n",
    "    mf.write_input() # Write the model input files\n",
    "           \n",
    "    print(\"Input written\")\n",
    "        \n",
    "    # Setting up subprocess AND RUNNING THE MODEL\n",
    "    #---------------------------------------------------------------\n",
    "    p = subprocess.Popen([MODFLOW_folder, modelname], shell = False)   \n",
    "    p.wait()\n",
    "    #---------------------------------------------------------------\n",
    "    print(\"END: Flow model has been run\")\n",
    "    \n",
    "    return modelname, modelname_mt3d, mf\n",
    "     "
   ]
  },
  {
   "cell_type": "markdown",
   "metadata": {},
   "source": [
    "## Running the flow model"
   ]
  },
  {
   "cell_type": "code",
   "execution_count": 55,
   "metadata": {},
   "outputs": [
    {
     "name": "stdout",
     "output_type": "stream",
     "text": [
      "Flow model name: TB_01_R1_CS1\n",
      "Transport model name: TB_01_mt3d_R1_CS1\n",
      "Discretisation module set up\n",
      "Setting up hk array for Case Study 1\n",
      "Upstream weighting package set up\n",
      "Newton solver set up\n",
      "Setting up recharge array for Recharge Scenario 1\n",
      "Recharge package set up\n",
      "General head boundary package set up\n",
      "Output control package set up\n",
      "Basic package set up\n",
      "Link-Mass Transport package set up\n",
      "Input written\n",
      "END: Flow model has been run\n"
     ]
    }
   ],
   "source": [
    "modelname, modelname_mt3d, mf = flow_model(1, 1)"
   ]
  },
  {
   "cell_type": "markdown",
   "metadata": {},
   "source": [
    "# Function to set up and run transport file"
   ]
  },
  {
   "cell_type": "code",
   "execution_count": 56,
   "metadata": {},
   "outputs": [
    {
     "name": "stdout",
     "output_type": "stream",
     "text": [
      "Modflow model details: MODFLOW 12 layer(s) 200 row(s) 400 column(s) 1 stress period(s)\n",
      "Modflow model name is: TB_01_R1_CS1\n",
      "Mt3d model name is: TB_01_mt3d_R1_CS1\n",
      "Model ws is: C:\\Users\\mar886\\WaterTableProject\\TracersBarriers\\tracers_barriers\n",
      "MT3D executable is: mt3d-usgs_1.1.0_64.exe\n"
     ]
    }
   ],
   "source": [
    "print(\"Modflow model details: %s\" %mf)\n",
    "print(\"Modflow model name is: %s\" %modelname)\n",
    "print(\"Mt3d model name is: %s\"%modelname_mt3d)\n",
    "print(\"Model ws is: %s\" %this_model_folder)\n",
    "print(\"MT3D executable is: %s\" %MT3D_USGS_folder)"
   ]
  },
  {
   "cell_type": "code",
   "execution_count": 57,
   "metadata": {},
   "outputs": [],
   "source": [
    "def transport_model(modelname, modelname_mt3d, mf):   \n",
    "\n",
    "    mt = mt3d.Mt3dms(modflowmodel=mf, modelname=modelname_mt3d, model_ws=this_model_folder, \n",
    "                         version=mt3d_version, namefile_ext='mtnam', exe_name=MT3D_USGS_folder,  \n",
    "                         ftlfilename=(modelname + str('_mt3dLink.ftl'))) \n",
    "               \n",
    "    #------------------------------------------------------------------------------\n",
    "    # BASIC TRANSPORT PACKAGE\n",
    "        \n",
    "    ncomp = 1         # Total number of chemical species in simulation.  \n",
    "    mcomp = 1         # Total number of \"mobile\" species. \n",
    "    sconc= np.zeros((nlay, nrow, ncol), dtype=np.float32)  # initial conc. = 0 yrs   \n",
    "    nprs = 0          # Flag indicating frequency of output. = 0: results not saved except \n",
    "                      # at end of simulation; > 0: saved at times specified by timprs; < 0: saved\n",
    "                      # whenever the  number of transport steps is an even multiple of nprs.\n",
    "        \n",
    "    btn = mt3d.Mt3dBtn(mt, nlay=nlay, nrow=nrow, ncol=ncol, nper=nper, perlen=perlen, \n",
    "                           ncomp=ncomp, mcomp=mcomp, sconc=sconc, prsity=prsity,\n",
    "                           delr=delr, delc=delc, icbund=1, ifmtcn=-1, savucn=True,\n",
    "                           nprs=nprs, nprobs=1, cinact=0, ssflag='SState', laycon=1) \n",
    "        \n",
    "    #------------------------------------------------------------------------------\n",
    "    # ADVECTION PACKAGE\n",
    "        \n",
    "    adv = mt3d.Mt3dAdv(mt, mixelm=0)  \n",
    "        \n",
    "    # mixelm = 0 means that I am using the standard finite-difference method with upstream or \n",
    "    # central-in-stream weighting, depending on the value of NADVFD. \n",
    "    # Other options, MOC (1); MMOC (2); HMOC (3); TVD (-1). \n",
    "        \n",
    "    #------------------------------------------------------------------------------\n",
    "    # GENERALISED CONJUGATE GRADIENT SOLVER for MT3D-USGS\n",
    "        \n",
    "    gcg = mt3d.Mt3dGcg(mt, mxiter=30, iter1=50, isolve=2, accl=1, cclose=1e-06)\n",
    "        \n",
    "    #------------------------------------------------------------------------------\n",
    "    # REACTION PACKAGE\n",
    "        \n",
    "    rc1 = np.zeros((nlay, nrow, ncol), dtype=np.float32)\n",
    "    rc1[:, :, :] = -1/365.25\n",
    "        \n",
    "    isothm = 0      # 0 = no sorption.\n",
    "    ireact = 100    # 100 = zeroth-order reaction option.\n",
    "    rc1 = rc1       # First order reaction rate for diffolved phase of first species.\n",
    "        \n",
    "    rct= mt3d.Mt3dRct(mt, isothm=isothm, ireact=ireact, igetsc=0, rc1=rc1) \n",
    "        \n",
    "    #------------------------------------------------------------------------------\n",
    "    # SOURCE-SINK MIXING PACKAGE\n",
    "        \n",
    "    crch = np.zeros((nrow, ncol), dtype=np.float32) # The age of recharging water is 0\n",
    "        \n",
    "    itype = mt3d.Mt3dSsm.itype_dict()\n",
    "       \n",
    "    ssm = mt3d.Mt3dSsm(mt, crch=crch) #, stress_period_data=ssm_data) \n",
    "        \n",
    "    #------------------------------------------------------------------------------\n",
    "    # DISPERSION PACKAGE \n",
    "    al = 1.5 # The longitudinal dispersivity, default = 0.01\n",
    "\n",
    "#   trpt = 0.1  #ratio of horizontal transverse: longitudinal dispersivity, default = 0.1\n",
    "#   trpv = 0.01 #ratio of vertical transverse dispersivity: longitudinal dispersivity, default = 0.01\n",
    "    dmcoef = 1E-4*tortuosity_factor # Effective molecular diffusion coefficient (for water in my model), default = 1E-9 m2/s\n",
    "        \n",
    "    # Instantiate up the Dispersion package for MT3D-USGS\n",
    "    dsp = mt3d.Mt3dDsp(mt, al=al, dmcoef=dmcoef) \n",
    "        \n",
    "    #----- WRITING transport MODEL ------------------------------------------------\n",
    "         \n",
    "    mt.write_input()\n",
    "       \n",
    "    # - - - - - - - - - - - - - - - - - - - - - - - - - - - - - - - - - - - - - - -\n",
    "    # -- -- -- -- -- -- -- -- -- -- -- -- -- -- -- -- -- -- -- -- -- -- -- -- -- --\n",
    "    # \"Manual\" changes to the input files\n",
    "    conc_filename_dissolved = str(modelname_mt3d) + \".ucn\"\n",
    "    conc_filename_sorbed = str(modelname_mt3d) + \"_S.ucn\"\n",
    "    mass_filename = str(modelname_mt3d) + \".mas\"\n",
    "    cnf_filename = str(modelname_mt3d) + \".cnf\"\n",
    "        \n",
    "    ##Add a line to the MT3D .mtnam file re-naming output UCN file + MAS,CNF\n",
    "    mt_name_file = modelname_mt3d + str('.mtnam')\n",
    "        \n",
    "    namfile = open(mt_name_file, 'a')\n",
    "    namfile.write('data(binary) 201 %s \\n' %(conc_filename_dissolved))\n",
    "    namfile.close()\n",
    "        \n",
    "    namfile = open(mt_name_file, 'a')\n",
    "    namfile.write('data(binary) 301 %s \\n' %(conc_filename_sorbed))\n",
    "    namfile.close()\n",
    "              \n",
    "    namfile = open(mt_name_file, 'a')\n",
    "    namfile.write('data 601 %s \\n' %(mass_filename))\n",
    "    namfile.close()\n",
    "        \n",
    "    namfile = open(mt_name_file, 'a')\n",
    "    namfile.write('data 17 %s \\n' %(cnf_filename))\n",
    "    namfile.close()\n",
    "                \n",
    "    ###For USGS need to add DRYCELL keyword to the .btn file on line 3\n",
    "    mt_btn_file = modelname_mt3d + str('.btn')\n",
    "        \n",
    "\n",
    "    btnfile = open(mt_btn_file, \"r\")\n",
    "    contents = btnfile.readlines()\n",
    "    btnfile.close()\n",
    "    contents.insert(2, \"DRYCELL \\n\")\n",
    "    btnfile = open(mt_btn_file, \"w\")\n",
    "    contents = \"\".join(contents)\n",
    "    btnfile.write(contents)\n",
    "    btnfile.close()\n",
    "        \n",
    "    # ADD SSTATE FLAG manually in correct spot\n",
    "\n",
    "    fpath = os.path.join(this_model_folder, mt_btn_file)\n",
    "    with open(mt_btn_file, 'r+') as f:\n",
    "        lines = f.readlines()\n",
    "        f.seek(0)\n",
    "        f.truncate()\n",
    "\n",
    "        a = '%.1E' % Decimal(length_simulation)\n",
    "        if length_simulation == 1:\n",
    "            b = \"1         1         1 S\"\n",
    "            c = \"1         1         1         SState\"\n",
    "        else:\n",
    "            b = str(a) + \"         1         1 S\"\n",
    "            c = str(a) + \"         1         1         SState\"\n",
    "\n",
    "        ##\n",
    "\n",
    "        for line in lines:\n",
    "            if b in line:\n",
    "                            line = line.replace(b, c)\n",
    "            f.write(line)\n",
    "            \n",
    "    # Running the transport model\n",
    "    #--------------------------------\n",
    "    success, buff = mt.run_model()\n",
    "    print(\"Transport model has been run\")\n",
    "    #-------------------------------- \n",
    "        \n",
    "    return mt"
   ]
  },
  {
   "cell_type": "markdown",
   "metadata": {},
   "source": [
    "## Running the transport model"
   ]
  },
  {
   "cell_type": "code",
   "execution_count": 58,
   "metadata": {},
   "outputs": [
    {
     "name": "stdout",
     "output_type": "stream",
     "text": [
      "MODFLOW 12 layer(s) 200 row(s) 400 column(s) 1 stress period(s)\n",
      "TB_01_R1_CS1\n",
      "TB_01_mt3d_R1_CS1\n"
     ]
    }
   ],
   "source": [
    "print(mf)\n",
    "print(modelname)\n",
    "print(modelname_mt3d)"
   ]
  },
  {
   "cell_type": "code",
   "execution_count": 59,
   "metadata": {},
   "outputs": [
    {
     "name": "stdout",
     "output_type": "stream",
     "text": [
      "FloPy is using the following executable to run the model: .\\mt3d-usgs_1.1.0_64.exe\n",
      "\n",
      " MT3D-USGS - Modular 3D Multi-Species Transport Model [Ver 1.1.0]   \n",
      " and based on MT3DMS. MT3D-USGS developed in cooperation by \n",
      " S.S. Papadopulos & Associates and the U.S. Geological Survey\n",
      "\n",
      " Using NAME File: TB_01_mt3d_R1_CS1.mtnam\n",
      "\n",
      " STRESS PERIOD NO.    1\n",
      "\n",
      " TIME STEP NO.    1\n",
      " FROM TIME =   0.0000     TO    1.0000    \n",
      "\n",
      " Transport Step:    1   Step Size:   1.000     Total Elapsed Time:   1.0000    \n",
      " Outer Iter.  1  Inner Iter.  1:  Max. DC =  0.3690E+05  [K,I,J]   12  200    1\n",
      " Outer Iter.  1  Inner Iter.  2:  Max. DC =  0.2050E+05  [K,I,J]   12  200    1\n",
      " Outer Iter.  1  Inner Iter.  3:  Max. DC =  0.4248E+05  [K,I,J]   12  200    1\n",
      " Outer Iter.  1  Inner Iter.  4:  Max. DC =  0.1623E+05  [K,I,J]   12  199   33\n",
      " Outer Iter.  1  Inner Iter.  5:  Max. DC =   7840.      [K,I,J]   12  199   57\n",
      " Outer Iter.  1  Inner Iter.  6:  Max. DC =  0.4925E+05  [K,I,J]   12  199   85\n",
      " Outer Iter.  1  Inner Iter.  7:  Max. DC =  0.6001E+05  [K,I,J]   12  199  107\n",
      " Outer Iter.  1  Inner Iter.  8:  Max. DC =  0.5174E+05  [K,I,J]   12  199   57\n",
      " Outer Iter.  1  Inner Iter.  9:  Max. DC =  0.6936E+05  [K,I,J]   12  199   50\n",
      " Outer Iter.  1  Inner Iter. 10:  Max. DC =  0.6103E+05  [K,I,J]   12  199   47\n",
      " Outer Iter.  1  Inner Iter. 11:  Max. DC =   2416.      [K,I,J]   12  199   65\n",
      " Outer Iter.  1  Inner Iter. 12:  Max. DC =  0.1291E+06  [K,I,J]   12  199   56\n",
      " Outer Iter.  1  Inner Iter. 13:  Max. DC =  0.1256E+06  [K,I,J]   12  199   53\n",
      " Outer Iter.  1  Inner Iter. 14:  Max. DC =   9805.      [K,I,J]   12  199   58\n",
      " Outer Iter.  1  Inner Iter. 15:  Max. DC =   7019.      [K,I,J]   12  199   54\n",
      " Outer Iter.  1  Inner Iter. 16:  Max. DC =   5230.      [K,I,J]   12  199   75\n",
      " Outer Iter.  1  Inner Iter. 17:  Max. DC =   125.7      [K,I,J]   12  199   70\n",
      " Outer Iter.  1  Inner Iter. 18:  Max. DC =   2769.      [K,I,J]   12  199   77\n",
      " Outer Iter.  1  Inner Iter. 19:  Max. DC =   713.0      [K,I,J]   12  199   66\n",
      " Outer Iter.  1  Inner Iter. 20:  Max. DC =   2195.      [K,I,J]   12  199   69\n",
      " Outer Iter.  1  Inner Iter. 21:  Max. DC =   100.5      [K,I,J]   12  199  100\n",
      " Outer Iter.  1  Inner Iter. 22:  Max. DC =   190.6      [K,I,J]   12  199   43\n",
      " Outer Iter.  1  Inner Iter. 23:  Max. DC =   93.44      [K,I,J]   12  199   41\n",
      " Outer Iter.  1  Inner Iter. 24:  Max. DC =   76.46      [K,I,J]   12  111  400\n",
      " Outer Iter.  1  Inner Iter. 25:  Max. DC =   125.0      [K,I,J]   12  199   96\n",
      " Outer Iter.  1  Inner Iter. 26:  Max. DC =   44.96      [K,I,J]   12  199  111\n",
      " Outer Iter.  1  Inner Iter. 27:  Max. DC =   57.83      [K,I,J]   12  199   98\n",
      " Outer Iter.  1  Inner Iter. 28:  Max. DC =   61.84      [K,I,J]   12  199   97\n",
      " Outer Iter.  1  Inner Iter. 29:  Max. DC =   40.31      [K,I,J]   12  199   87\n",
      " Outer Iter.  1  Inner Iter. 30:  Max. DC =   16.33      [K,I,J]   12  199   52\n",
      " Outer Iter.  1  Inner Iter. 31:  Max. DC =   14.25      [K,I,J]   12  199   46\n",
      " Outer Iter.  1  Inner Iter. 32:  Max. DC =   3.811      [K,I,J]   12  199   63\n",
      " Outer Iter.  1  Inner Iter. 33:  Max. DC =  0.8789      [K,I,J]   12  199   62\n",
      " Outer Iter.  1  Inner Iter. 34:  Max. DC =   19.22      [K,I,J]   12  199   91\n",
      " Outer Iter.  1  Inner Iter. 35:  Max. DC =   15.57      [K,I,J]   12  199   87\n",
      " Outer Iter.  1  Inner Iter. 36:  Max. DC =   1.770      [K,I,J]   12  199   44\n",
      " Outer Iter.  1  Inner Iter. 37:  Max. DC =   2.307      [K,I,J]   12  199   42\n",
      " Outer Iter.  1  Inner Iter. 38:  Max. DC =   3.160      [K,I,J]   12  199   42\n",
      " Outer Iter.  1  Inner Iter. 39:  Max. DC =   2.383      [K,I,J]   12  199   40\n",
      " Outer Iter.  1  Inner Iter. 40:  Max. DC =   2.166      [K,I,J]   12  199   40\n",
      " Outer Iter.  1  Inner Iter. 41:  Max. DC =  0.6777      [K,I,J]   12  199   47\n",
      " Outer Iter.  1  Inner Iter. 42:  Max. DC =  0.7734      [K,I,J]   12  199   42\n",
      " Outer Iter.  1  Inner Iter. 43:  Max. DC =  0.3320E-01  [K,I,J]   12  199   44\n",
      " Outer Iter.  1  Inner Iter. 44:  Max. DC =  0.6250E-01  [K,I,J]   12  199   61\n",
      " Outer Iter.  1  Inner Iter. 45:  Max. DC =  0.3320E-01  [K,I,J]   12  199   46\n",
      " Outer Iter.  1  Inner Iter. 46:  Max. DC =  0.3340      [K,I,J]   12  199   44\n",
      " Outer Iter.  1  Inner Iter. 47:  Max. DC =  0.3242      [K,I,J]   12  199   43\n",
      " Outer Iter.  1  Inner Iter. 48:  Max. DC =  0.5273E-01  [K,I,J]   12  199   50\n",
      " Outer Iter.  1  Inner Iter. 49:  Max. DC =  0.3906E-01  [K,I,J]   12  199   51\n",
      " Outer Iter.  1  Inner Iter. 50:  Max. DC =  0.1152      [K,I,J]   12  199   47\n",
      " Outer Iter.  2  Inner Iter.  1:  Max. DC =  0.1613E-01  [K,I,J]   11  200    1\n",
      " Outer Iter.  2  Inner Iter.  2:  Max. DC =  0.3099E-02  [K,I,J]   11  200    1\n",
      " Outer Iter.  2  Inner Iter.  3:  Max. DC =  0.1710E-02  [K,I,J]   12  199   27\n",
      " Outer Iter.  2  Inner Iter.  4:  Max. DC =  0.2011E-02  [K,I,J]   12  199   55\n",
      " Outer Iter.  2  Inner Iter.  5:  Max. DC =  0.1102E-02  [K,I,J]   12  199   50\n",
      " Outer Iter.  2  Inner Iter.  6:  Max. DC =  0.1158E-03  [K,I,J]   12  198   92\n",
      " Outer Iter.  2  Inner Iter.  7:  Max. DC =  0.6067E-03  [K,I,J]   12  199   83\n",
      " Outer Iter.  2  Inner Iter.  8:  Max. DC =  0.9176E-03  [K,I,J]   12  199  109\n",
      " Outer Iter.  2  Inner Iter.  9:  Max. DC =  0.7677E-03  [K,I,J]   12  199  100\n",
      " Outer Iter.  2  Inner Iter. 10:  Max. DC =  0.6530E-03  [K,I,J]   12  199   70\n",
      " Outer Iter.  2  Inner Iter. 11:  Max. DC =  0.1718E-02  [K,I,J]   12  199   67\n",
      " Outer Iter.  2  Inner Iter. 12:  Max. DC =  0.4833E-02  [K,I,J]   12  199   90\n",
      " Outer Iter.  2  Inner Iter. 13:  Max. DC =  0.1833      [K,I,J]   12  199   81\n",
      " Outer Iter.  2  Inner Iter. 14:  Max. DC =  0.1868      [K,I,J]   12  199   81\n",
      " Outer Iter.  2  Inner Iter. 15:  Max. DC =  0.6022E-03  [K,I,J]   12  199   66\n",
      " Outer Iter.  2  Inner Iter. 16:  Max. DC =  0.9992E-03  [K,I,J]   12  199   68\n",
      " Outer Iter.  2  Inner Iter. 17:  Max. DC =  0.8202E-04  [K,I,J]   12  199   38\n",
      " Outer Iter.  2  Inner Iter. 18:  Max. DC =  0.1404E-03  [K,I,J]   12  199   69\n",
      " Outer Iter.  2  Inner Iter. 19:  Max. DC =  0.1044E-03  [K,I,J]   12  199   65\n",
      " Outer Iter.  2  Inner Iter. 20:  Max. DC =  0.5007E-05  [K,I,J]   12  199   59\n",
      " Outer Iter.  2  Inner Iter. 21:  Max. DC =  0.1979E-04  [K,I,J]   12  199   61\n",
      " Outer Iter.  2  Inner Iter. 22:  Max. DC =  0.9060E-05  [K,I,J]   12   71  400\n",
      " Outer Iter.  2  Inner Iter. 23:  Max. DC =  0.9358E-05  [K,I,J]   12    2  400\n",
      " Outer Iter.  2  Inner Iter. 24:  Max. DC =  0.5960E-06  [K,I,J]   12    1  400\n",
      " Outer Iter.  3  Inner Iter.  1:  Max. DC =  0.2445E-03  [K,I,J]   12  200    1\n",
      " Outer Iter.  3  Inner Iter.  2:  Max. DC =  0.1590E-03  [K,I,J]   12  200    1\n",
      " Outer Iter.  3  Inner Iter.  3:  Max. DC =  0.1274E-03  [K,I,J]   11  200    1\n",
      " Outer Iter.  3  Inner Iter.  4:  Max. DC =  0.1240E-04  [K,I,J]   12  199   52\n",
      " Outer Iter.  3  Inner Iter.  5:  Max. DC =  0.2855E-04  [K,I,J]   12  198   68\n",
      " Outer Iter.  3  Inner Iter.  6:  Max. DC =  0.1502E-04  [K,I,J]   12  198   62\n",
      " Outer Iter.  3  Inner Iter.  7:  Max. DC =  0.2253E-04  [K,I,J]   12  198  112\n",
      " Outer Iter.  3  Inner Iter.  8:  Max. DC =  0.3445E-04  [K,I,J]   12  199   11\n",
      " Outer Iter.  3  Inner Iter.  9:  Max. DC =  0.4059E-04  [K,I,J]   12  199    9\n",
      " Outer Iter.  3  Inner Iter. 10:  Max. DC =  0.3135E-04  [K,I,J]   12  199    9\n",
      " Outer Iter.  3  Inner Iter. 11:  Max. DC =  0.5126E-05  [K,I,J]   12  199    1\n",
      " Outer Iter.  3  Inner Iter. 12:  Max. DC =  0.5901E-05  [K,I,J]   12  199    1\n",
      " Outer Iter.  3  Inner Iter. 13:  Max. DC =  0.9000E-05  [K,I,J]   12  199   26\n",
      " Outer Iter.  3  Inner Iter. 14:  Max. DC =  0.1138E-04  [K,I,J]   12   92   57\n",
      " Outer Iter.  3  Inner Iter. 15:  Max. DC =  0.2342E-04  [K,I,J]   12  199    9\n",
      " Outer Iter.  3  Inner Iter. 16:  Max. DC =  0.2187E-04  [K,I,J]   12  199    9\n",
      " Outer Iter.  3  Inner Iter. 17:  Max. DC =  0.2563E-05  [K,I,J]   12  199   10\n",
      " Outer Iter.  3  Inner Iter. 18:  Max. DC =  0.1013E-05  [K,I,J]   12  199    9\n",
      " Outer Iter.  3  Inner Iter. 19:  Max. DC =  0.2980E-06  [K,I,J]   12  199   10\n",
      " Outer Iter.  4  Inner Iter.  1:  Max. DC =  0.4768E-05  [K,I,J]   12  121    1\n",
      " Outer Iter.  4  Inner Iter.  2:  Max. DC =  0.1013E-05  [K,I,J]   11   37    1\n",
      " Outer Iter.  4  Inner Iter.  3:  Max. DC =  0.8345E-06  [K,I,J]   12   35  201\n",
      " Outer Iter.  5  Inner Iter.  1:  Max. DC =  0.1669E-05  [K,I,J]   12   47  368\n",
      " Outer Iter.  5  Inner Iter.  2:  Max. DC =  0.2384E-06  [K,I,J]   12   47  386\n"
     ]
    },
    {
     "name": "stdout",
     "output_type": "stream",
     "text": [
      " Outer Iter.  6  Inner Iter.  1:  Max. DC =  0.1431E-05  [K,I,J]   12  184  398\n",
      " Outer Iter.  6  Inner Iter.  2:  Max. DC =  0.3576E-06  [K,I,J]   12   78  387\n",
      " Outer Iter.  7  Inner Iter.  1:  Max. DC =  0.1073E-05  [K,I,J]   12  177  339\n",
      " Outer Iter.  7  Inner Iter.  2:  Max. DC =  0.2980E-06  [K,I,J]   12   19  202\n",
      " Outer Iter.  8  Inner Iter.  1:  Max. DC =  0.1311E-05  [K,I,J]   12   67  178\n",
      " Outer Iter.  8  Inner Iter.  2:  Max. DC =  0.3576E-06  [K,I,J]   12   29  343\n",
      " Outer Iter.  9  Inner Iter.  1:  Max. DC =  0.1192E-05  [K,I,J]   12   52  345\n",
      " Outer Iter.  9  Inner Iter.  2:  Max. DC =  0.3576E-06  [K,I,J]   12  160  385\n",
      " Outer Iter. 10  Inner Iter.  1:  Max. DC =  0.1132E-05  [K,I,J]   12  129  361\n",
      " Outer Iter. 10  Inner Iter.  2:  Max. DC =  0.2384E-06  [K,I,J]   12   25  221\n",
      " Outer Iter. 11  Inner Iter.  1:  Max. DC =  0.1013E-05  [K,I,J]   12  120  377\n",
      " Outer Iter. 11  Inner Iter.  2:  Max. DC =  0.2980E-06  [K,I,J]   12    2  389\n",
      " Outer Iter. 12  Inner Iter.  1:  Max. DC =  0.9537E-06  [K,I,J]   12   50  371\n",
      "\n",
      " Program completed.   Total CPU time:  000 minutes 11.297 seconds\n",
      "Transport model has been run\n"
     ]
    }
   ],
   "source": [
    "mt = transport_model(modelname, modelname_mt3d, mf)"
   ]
  }
 ],
 "metadata": {
  "kernelspec": {
   "display_name": "Python 3",
   "language": "python",
   "name": "python3"
  },
  "language_info": {
   "codemirror_mode": {
    "name": "ipython",
    "version": 3
   },
   "file_extension": ".py",
   "mimetype": "text/x-python",
   "name": "python",
   "nbconvert_exporter": "python",
   "pygments_lexer": "ipython3",
   "version": "3.7.4"
  }
 },
 "nbformat": 4,
 "nbformat_minor": 4
}
