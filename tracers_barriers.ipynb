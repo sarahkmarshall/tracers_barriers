{
 "cells": [
  {
   "cell_type": "markdown",
   "metadata": {},
   "source": [
    "# Tracers and barriers paper\n",
    "\n",
    "Tracers and Barriers paper\n",
    "\n",
    "This script is for the generation of flow model input files, running the flow model, and the generation of transport model input files.\n",
    "\n",
    "THEN --> run the transport model.\n",
    "THEN --> post-process the data using the post-processing (TracersBarriers_01_PP.py) script.\n",
    "\n",
    "## Case Study (CS) & recharge descriptions\n",
    "CS1 is with no barrier.\n",
    "CS2 is fully-penetrating barrier.\n",
    "CS3 is buried barrier.\n",
    "CS4 is fully penetrating barrier, oblique across part of the aquifer.\n",
    "\n",
    "Recharge 1 = Diffuse recharge across the whole aquifer.\n",
    "Recharge 2 = Upgradient (mountain-front) recharge only.\n",
    "\n",
    "Models A, B, C = No barrier\n",
    "Models D, E, F = Barrier\n",
    "\n",
    "Models A, D = Recharge 1\n",
    "Models B, E = Recharge 2\n",
    "Models C, F = Recharge 3"
   ]
  },
  {
   "cell_type": "markdown",
   "metadata": {},
   "source": [
    "## Importing packages"
   ]
  },
  {
   "cell_type": "code",
   "execution_count": 20,
   "metadata": {},
   "outputs": [
    {
     "name": "stdout",
     "output_type": "stream",
     "text": [
      "3.7.3 (default, Mar 27 2019, 17:13:21) [MSC v.1915 64 bit (AMD64)]\n",
      "numpy version: 1.18.1\n",
      "matplotlib version: 3.1.3\n",
      "pandas version: 1.0.2\n",
      "flopy version: 3.3.0\n"
     ]
    }
   ],
   "source": [
    "import numpy as np\n",
    "import matplotlib as mpl\n",
    "import flopy\n",
    "from flopy import mt3d\n",
    "import pandas as pd\n",
    "import subprocess\n",
    "import os\n",
    "import time\n",
    "import sys\n",
    "import datetime\n",
    "from decimal import Decimal\n",
    "\n",
    "print(sys.version)\n",
    "print('numpy version: {}'.format(np.__version__))\n",
    "print('matplotlib version: {}'.format(mpl.__version__))\n",
    "print('pandas version: {}'.format(pd.__version__))\n",
    "print('flopy version: {}'.format(flopy.__version__))"
   ]
  },
  {
   "cell_type": "markdown",
   "metadata": {},
   "source": [
    "## Setting up directories"
   ]
  },
  {
   "cell_type": "code",
   "execution_count": 21,
   "metadata": {},
   "outputs": [
    {
     "name": "stdout",
     "output_type": "stream",
     "text": [
      "Flow model name is: TB_01_a, transport model name is: TB_01_a_mt3d\n",
      "Current working directory is: C:\\workspace\\Proj2_TracersBarriers\\TB_01_a\n"
     ]
    }
   ],
   "source": [
    "modelName    = \"TB_01_a\"\n",
    "modelName_mt = \"%s_mt3d\"%modelName\n",
    "\n",
    "print(\"Flow model name is: %s, transport model name is: %s\" %(modelName, modelName_mt))\n",
    "\n",
    "MODFLOW_folder      = r'C:\\Program Files\\MODFLOW-NWT_1.1.3\\bin\\MODFLOW-NWT_64'\n",
    "\n",
    "project_folder      = r'C:\\workspace\\Proj2_TracersBarriers/'\n",
    "MT3D_USGS_folder    = r'C:\\Program Files\\mt3d-usgs_Distribution\\bin\\MT3D-USGS_64'\n",
    "exe_name            = r'C:\\workspace\\Proj2_TracersBarriers\\MT3D_Reaction_sngl' \n",
    "mt3d_version        = 'mt3d-usgs' \n",
    "\n",
    "this_model_folder = project_folder + modelName\n",
    "if not os.path.exists(this_model_folder):\n",
    "    os.makedirs(this_model_folder)\n",
    "\n",
    "dataDirectory = this_model_folder + '/Data'\n",
    "if not os.path.exists(dataDirectory):\n",
    "    os.makedirs(dataDirectory)\n",
    "\n",
    "figureDirectory = this_model_folder + '/Figures'\n",
    "if not os.path.exists(figureDirectory):\n",
    "    os.makedirs(figureDirectory)\n",
    "\n",
    "os.chdir(this_model_folder)\n",
    "\n",
    "print(\"Current working directory is: \" + str(os.getcwd()))"
   ]
  },
  {
   "cell_type": "markdown",
   "metadata": {},
   "source": [
    "## Model discretisation"
   ]
  },
  {
   "cell_type": "code",
   "execution_count": 22,
   "metadata": {},
   "outputs": [],
   "source": [
    "nlay = 12                    # Number of layers.\n",
    "Lx = 10000.                  # Length of the model sides in metres.\n",
    "Ly = 5000                    # Rectangular domain.\n",
    "delr = 25.                   # Spacing length across rows in metres.\n",
    "delc = delr                  # The spacing along columns and rows are equal.\n",
    "ncol = int(Lx/delr)          # Number of columns.\n",
    "nrow = int(Ly/delc)          # Number of rows.\n",
    "ncells = nlay*ncol*nrow      # Total number of cells in the model.\n",
    "ncells_per_layer = ncol*nrow # Number of cells per layer.\n",
    "surface_area = Lx*Ly         # m^2\n",
    "\n",
    "ztop = 300.                  # Top of model.\n",
    "zbot = 0.                    # Base of model.\n",
    "delv = (ztop - zbot) / nlay  # Length of cells in z direction.\n",
    "botm = np.linspace(ztop, zbot, nlay + 1) "
   ]
  },
  {
   "cell_type": "markdown",
   "metadata": {},
   "source": [
    "## Hydraulic properties"
   ]
  },
  {
   "cell_type": "code",
   "execution_count": 23,
   "metadata": {},
   "outputs": [],
   "source": [
    "sHead = 290                  # Starting head across aquifer.\n",
    "\n",
    "sy = 0.1                     # Specific yield.\n",
    "ss = sy/ztop                 # Specific storage.\n",
    "laytyp = 1                   # Layer type (1 = convertible; 0 = confined).\n",
    "\n",
    "hk_aquifer = 1.              # Hydraulic conductvity along rows (m/day).\n",
    "vka = hk_aquifer/10.         # Vertical hydraulic conductivity.\n",
    "\n",
    "prsity = sy\n",
    "tortuosity_factor = 0.09\n",
    "\n",
    "recharge_flux = 1.3699e-5    # m/d This is equivalent to 5 mm per year.\n",
    "total_recharge = recharge_flux*surface_area # m^3 per day.\n",
    "total_recharge_per_y = total_recharge*365.25 # m^3 per year.\n",
    "\n",
    "length_simulation = 1        # Length of the steady-state flow model (days). "
   ]
  },
  {
   "cell_type": "markdown",
   "metadata": {},
   "source": [
    "## Barrier characteristics"
   ]
  },
  {
   "cell_type": "code",
   "execution_count": 24,
   "metadata": {},
   "outputs": [
    {
     "name": "stdout",
     "output_type": "stream",
     "text": [
      "0\n"
     ]
    }
   ],
   "source": [
    "hk_barrier           = hk_aquifer/1000 # m/d 3 orders of magnitude lower than the aquifer.\n",
    "barrier_width        = 50 # m\n",
    "number_barrier_cols  = barrier_width/delr  # So we can test/change the grid spacing.\n",
    "column_of_barrier    = []\n",
    "\n",
    "if number_barrier_cols == 1:\n",
    "    column_of_barrier.append(int(ncol/2)) \n",
    "elif number_barrier_cols%2 == 0: # Even number\n",
    "    for i in range(int(number_barrier_cols/2)):\n",
    "        a = int(number_barrier_cols/2) - i\n",
    "        column_of_barrier.append(int(ncol/2)-a)\n",
    "\n",
    "    for i in range(int(number_barrier_cols/2)):\n",
    "        print(i)\n",
    "        column_of_barrier.append(int(ncol/2)+i)\n",
    "else: # Odd number        \n",
    "    for i in range(int(number_barrier_cols/2)):\n",
    "        a = int(number_barrier_cols/2) - i\n",
    "        column_of_barrier.append(int(ncol/2)-a)\n",
    "\n",
    "    for i in range(int(number_barrier_cols/2)):\n",
    "        print(i)\n",
    "        column_of_barrier.append(int(ncol/2)+i)\n",
    "\n",
    "    column_of_barrier.append(int(ncol/2)+int(number_barrier_cols/2))\n",
    "    \n",
    "percentage_gap        = 10 # CS2 \n",
    "first_row_barr        = int(nrow/percentage_gap) # CS2 \n",
    "last_row_barr         = int(nrow-(nrow/percentage_gap)) # CS2 \n",
    "start_lay_barr        = int(nlay/2) # CS3\n",
    "end_lay_barr          = nlay # CS3"
   ]
  },
  {
   "cell_type": "markdown",
   "metadata": {},
   "source": [
    "## Making the hydraulic conductivity arrays"
   ]
  },
  {
   "cell_type": "code",
   "execution_count": 25,
   "metadata": {},
   "outputs": [],
   "source": [
    "number_of_casestudies = 3"
   ]
  },
  {
   "cell_type": "markdown",
   "metadata": {},
   "source": [
    "Case Study 1: No barrier"
   ]
  },
  {
   "cell_type": "code",
   "execution_count": 26,
   "metadata": {},
   "outputs": [],
   "source": [
    "hk_array_1 = hk_aquifer * np.ones((nlay, nrow, ncol), dtype=np.float32)      "
   ]
  },
  {
   "cell_type": "markdown",
   "metadata": {},
   "source": [
    "Case Study 2: Fully-penetrating barrier"
   ]
  },
  {
   "cell_type": "code",
   "execution_count": 27,
   "metadata": {},
   "outputs": [],
   "source": [
    "hk_array_2 = hk_aquifer * np.ones((nlay, nrow, ncol), dtype=np.float32)     \n",
    "  \n",
    "for il in range(nlay):\n",
    "    for ir in range(first_row_barr, last_row_barr, 1): \n",
    "        for col_number in range(len(column_of_barrier)):\n",
    "            hk_array_2[il, ir, column_of_barrier[col_number]] = hk_barrier "
   ]
  },
  {
   "cell_type": "markdown",
   "metadata": {},
   "source": [
    "Case Study 3: Buried barrier"
   ]
  },
  {
   "cell_type": "code",
   "execution_count": 28,
   "metadata": {},
   "outputs": [],
   "source": [
    "hk_array_3 = hk_aquifer * np.ones((nlay, nrow, ncol), dtype=np.float32)     \n",
    "\n",
    "for il in range(start_lay_barr, end_lay_barr):\n",
    "    for ir in range(nrow): \n",
    "        for col_number in range(len(column_of_barrier)):\n",
    "            hk_array_3[il, ir, column_of_barrier[col_number]] = hk_barrier "
   ]
  },
  {
   "cell_type": "markdown",
   "metadata": {},
   "source": [
    "## Recharge characteristics"
   ]
  },
  {
   "cell_type": "code",
   "execution_count": 29,
   "metadata": {},
   "outputs": [],
   "source": [
    "number_of_recharge_scenarios = 2"
   ]
  },
  {
   "cell_type": "markdown",
   "metadata": {},
   "source": [
    "Recharge array 1 = diffuse recharge across the whole aquifer in equal amounts."
   ]
  },
  {
   "cell_type": "code",
   "execution_count": 30,
   "metadata": {},
   "outputs": [],
   "source": [
    "recharge_array_1 = recharge_flux * np.ones((nrow, ncol), dtype=np.float32)"
   ]
  },
  {
   "cell_type": "markdown",
   "metadata": {},
   "source": [
    "Recharge array 2 = recharge across only the top of the catchment.\n",
    "Recharge across all rows, across first 50 columns (One quarter of catchment)."
   ]
  },
  {
   "cell_type": "code",
   "execution_count": 31,
   "metadata": {},
   "outputs": [],
   "source": [
    "n_cols_rech_2    = int(ncol/4)\n",
    "n_cells_rech_2   = int(n_cols_rech_2*nrow)\n",
    "SA_recharge_2    = Ly*n_cols_rech_2*delc # Surface area (m^2)\n",
    "recharge_flux_2  = total_recharge/SA_recharge_2 # m/d\n",
    "\n",
    "recharge_array_2 = np.zeros((nrow, ncol), dtype=np.float32)\n",
    "\n",
    "for c in range(n_cols_rech_2):  # Applying recharge to every row to the columns specified.\n",
    "    for r in range(nrow): \n",
    "        recharge_array_2[r, c] = recharge_flux_2"
   ]
  },
  {
   "cell_type": "markdown",
   "metadata": {},
   "source": [
    "## Boundary conditions"
   ]
  },
  {
   "cell_type": "markdown",
   "metadata": {},
   "source": [
    "General head boundary on the right-hand side.\n",
    "No boundary on the left-hand side so use default condition which is a no-flow boundary."
   ]
  },
  {
   "cell_type": "code",
   "execution_count": 32,
   "metadata": {},
   "outputs": [
    {
     "name": "stdout",
     "output_type": "stream",
     "text": [
      "Adding  2400 GHBs for stress period 1.\n"
     ]
    }
   ],
   "source": [
    "stageleft  = float(sHead)\n",
    "stageright = float(sHead)\n",
    "\n",
    "bound_sp1  = []\n",
    "for il in range(nlay):\n",
    "\n",
    "    condright = (hk_aquifer * (stageright - zbot) * delc)/10\n",
    "\n",
    "    for ir in range(nrow):\n",
    "        bound_sp1.append([il, ir, ncol - 1, stageright, condright])\n",
    "\n",
    "print('Adding ', len(bound_sp1), 'GHBs for stress period 1.')\n",
    "\n",
    "ghb_spd = {0: bound_sp1}    "
   ]
  },
  {
   "cell_type": "markdown",
   "metadata": {},
   "source": [
    "Specifying starting heads"
   ]
  },
  {
   "cell_type": "code",
   "execution_count": 33,
   "metadata": {},
   "outputs": [],
   "source": [
    "if nlay == 1:\n",
    "    ibound = np.ones((nrow, ncol), dtype=np.int32)\n",
    "    strt = sHead * np.ones((nrow, ncol), dtype=np.float32)\n",
    "\n",
    "else:\n",
    "    ibound = np.ones((nlay, nrow, ncol), dtype=np.int32)\n",
    "    strt = sHead * np.ones((nlay, nrow, ncol), dtype=np.float32) \n",
    "   "
   ]
  },
  {
   "cell_type": "markdown",
   "metadata": {},
   "source": [
    "## Stress periods"
   ]
  },
  {
   "cell_type": "markdown",
   "metadata": {},
   "source": [
    "1 Stress period: steady state only "
   ]
  },
  {
   "cell_type": "code",
   "execution_count": 34,
   "metadata": {},
   "outputs": [
    {
     "name": "stdout",
     "output_type": "stream",
     "text": [
      "One steady-state stress periods set up\n"
     ]
    }
   ],
   "source": [
    "nper   = 1 # Number of model stress periods.\n",
    "perlen = [length_simulation] \n",
    "\n",
    "nstp   = [1] # Number of time steps in each stress period.\n",
    "tsmult = [1]\n",
    "steady = [True] # True = steady state.\n",
    "\n",
    "print(\"One steady-state stress periods set up\")"
   ]
  },
  {
   "cell_type": "markdown",
   "metadata": {},
   "source": [
    "## Input files and running flow model\n",
    "\n",
    "Running multiple model scenarios:\n",
    "         \n",
    "* 1st:   Different recharge scenarios.\n",
    "     \n",
    "* 2nd:   Different case studies, representing the different hydraulic conductivities (barrier configurations).\n"
   ]
  },
  {
   "cell_type": "code",
   "execution_count": 35,
   "metadata": {},
   "outputs": [
    {
     "name": "stdout",
     "output_type": "stream",
     "text": [
      "The total number of scenarios is: 6\n"
     ]
    }
   ],
   "source": [
    "print(\"The total number of scenarios is: \" + str(\n",
    "                        number_of_recharge_scenarios*number_of_casestudies))"
   ]
  },
  {
   "cell_type": "markdown",
   "metadata": {},
   "source": [
    "If I were to do this again, I would not do it as a loop. But it is the way that I did it. Each loop runs a different model then I save the output.\n",
    "\n",
    "\n",
    "This cell sets up the loop - I can get rid of it."
   ]
  },
  {
   "cell_type": "code",
   "execution_count": null,
   "metadata": {},
   "outputs": [],
   "source": [
    "t1 = time.time()  \n",
    "for rechargeScenario in range(number_of_recharge_scenarios): # number_of_recharge_scenarios\n",
    "    print(\"Recharge scenario: \" + str(rechargeScenario+1))\n",
    "    \n",
    "    for caseStudy in range(number_of_casestudies): # number_of_casestudies\n",
    "        print(\"Case study: \" + str(caseStudy+1))\n",
    "        \n",
    "        "
   ]
  },
  {
   "cell_type": "markdown",
   "metadata": {},
   "source": [
    "## Function to set up and run the flow model\n",
    "\n",
    "Need to be careful whether I am adding 1 to recharge scenario and case study or not, I have changed things around a bit. "
   ]
  },
  {
   "cell_type": "code",
   "execution_count": null,
   "metadata": {},
   "outputs": [],
   "source": [
    "def flow_model(rechargeScenario, caseStudy):\n",
    "    \n",
    "    modelname = str(modelName) + \"_R\" + str(rechargeScenario) + \"_CS\" + str(caseStudy)\n",
    "    print(\"Flow model name: \" + str(modelname))\n",
    "        \n",
    "    modelname_mt = modelName_mt3d + \"_R\" + str(rechargeScenario+1) + \"_CS\" + str(caseStudy+1)\n",
    "    print(\"Transport model name: \" + str(modelname_mt))\n",
    "    \n",
    "    mf = flopy.modflow.Modflow(modelname, exe_name=MODFLOW_folder, version='mfnwt') # MODFLOW-NWT\n",
    "    \n",
    "    dis = flopy.modflow.ModflowDis(mf, nlay, nrow, ncol, delr=delr, \n",
    "                                        delc=delc,top=ztop, botm=botm[1:],\n",
    "                                        tsmult = tsmult, nper=nper, perlen=perlen, \n",
    "                                        nstp=nstp, steady=steady)\n",
    "        \n",
    "    print(\"Discretisation module set up\")\n",
    "       \n",
    "    # Which hydraulic conductivity array do I use, depending on which scenario is applied:\n",
    "        \n",
    "    if (caseStudy+1) == 1:\n",
    "        hk_array = hk_array_1\n",
    "            \n",
    "    elif(caseStudy+1) == 2:\n",
    "        hk_array = hk_array_2\n",
    "                   \n",
    "    else:\n",
    "        hk_array = hk_array_3\n",
    "            \n",
    "    uwp = flopy.modflow.mfupw.ModflowUpw(mf, hk=hk_array, vka=vka, sy=sy, ss=ss, ipakcb=53, iphdry = 53,\n",
    "                                                 laytyp=laytyp) # MODFLOW- NWT\n",
    "    print(\"Upstream weighting package set up\")\n",
    "        \n",
    "    # --- Solver --- #\n",
    "            \n",
    "    nwt = flopy.modflow.mfnwt.ModflowNwt(mf, headtol=1e-05, maxiterout=200, \n",
    "                        thickfact=1e-07, linmeth=2, iprnwt=1, ibotav=1, options='SPECIFIED', \n",
    "                        Continue=True, dbdtheta=0.9, dbdkappa=1e-05, dbdgamma=0.0, momfact=0.1, \n",
    "                        backflag=1, maxbackiter=30, backtol=1.05, backreduce=0.9, maxitinner=50, \n",
    "                        ilumethod=2, levfill=5, stoptol=1e-10, msdr=15, iacl=2, norder=1, level=3, \n",
    "                        north=7, iredsys=1, rrctols=0.0, idroptol=1, epsrn=0.0001, \n",
    "                        hclosexmd=0.0001, mxiterxmd=200) # MODFLOW- NWT fluxtol=1e-3, \n",
    "                                                   \n",
    "    print(\"Newton solver set up\")\n",
    "        \n",
    "    # --- Recharge --- #\n",
    "        \n",
    "    # RECHARGE (RCH) PACKAGE\n",
    "    if (rechargeScenario+1) == 1:\n",
    "        recharge_array = recharge_array_1\n",
    "    else:\n",
    "        recharge_array = recharge_array_2\n",
    "    \n",
    "    rch = flopy.modflow.ModflowRch(mf, rech=recharge_array)\n",
    "        \n",
    "    print(\"Recharge package set up\")\n",
    "        \n",
    "    # --- General head boundaries --- #\n",
    "        \n",
    "    # GENERAL HEAD BOUNDARY (GHB) PACKAGE \n",
    "    ghb = flopy.modflow.ModflowGhb(mf, stress_period_data=ghb_spd)\n",
    "    print(\"ghd\")  \n",
    "        \n",
    "    print(\"General head boundary package set up\")\n",
    "        \n",
    "    # --- SETTING UP THE OUTPUT CONTROL --- #\n",
    "        \n",
    "    # OUTPUT CONTROL                   \n",
    "    spd = {}\n",
    "    for strsp in range(nper):\n",
    "        tmstp = nstp[strsp]\n",
    "        for t in range(tmstp):\n",
    "            spd[strsp, t] = ['save budget', 'print budget', 'save head'] \n",
    "                                       \n",
    "    oc = flopy.modflow.ModflowOc(mf, stress_period_data=spd, compact=True)\n",
    "        \n",
    "    print(\"Output control package set up\")\n",
    "        \n",
    "    # --- SETTING UP BASIC PACKAGE, IBOUND --- #\n",
    "        \n",
    "    bas = flopy.modflow.ModflowBas(mf, ibound=1., strt=float(sHead), \n",
    "                                       ifrefm=True, ixsec=False, hnoflo=-999.99)\n",
    "        \n",
    "    print(\"Basic package set up\") \n",
    "        \n",
    "    # --- LINKING FILE --- #\n",
    "        \n",
    "    # Set up the linking file for output from flow model to be used in transport model\n",
    "    lmt = flopy.modflow.ModflowLmt(mf, output_file_name= (modelname + str('_mt3dLink.ftl')),\n",
    "                                       output_file_header='extended',\n",
    "                                       output_file_format='unformatted')   \n",
    "                                        \n",
    "    print(\"Link-Mass Transport package set up\") \n",
    "        \n",
    "    # --- NOW I NEED TO COMPILE AND WRITE ALL OF THE INPUT FILES --- #\n",
    "          \n",
    "    mf.write_input() # Write the model input files\n",
    "        \n",
    "    #print(\"Input written, starting to run the model at: \" + str(time.ctime()))\n",
    "    print(\"Input written\")\n",
    "        \n",
    "    # Setting up subprocess AND RUNNING THE MODEL\n",
    "    #---------------------------------------------------------------\n",
    "    p = subprocess.Popen([MODFLOW_folder, modelname], shell = False)   \n",
    "    p.wait()\n",
    "    #---------------------------------------------------------------\n",
    "    print(\"END: Flow model has been run\") \n",
    "     "
   ]
  },
  {
   "cell_type": "markdown",
   "metadata": {},
   "source": [
    "# Function to set up and run transport file"
   ]
  },
  {
   "cell_type": "code",
   "execution_count": null,
   "metadata": {},
   "outputs": [],
   "source": [
    "def transport_model(mfmodel):   \n",
    "\n",
    "    mt = mt3d.Mt3dms(modflowmodel=mf, modelname=modelname_mt, model_ws=this_model_folder, \n",
    "                         version=mt3d_version, namefile_ext='mtnam', exe_name=exe_name,  \n",
    "                         ftlfilename=(modelname + str('_mt3dLink.ftl'))) \n",
    "               \n",
    "    #------------------------------------------------------------------------------\n",
    "    # BASIC TRANSPORT PACKAGE\n",
    "        \n",
    "    ncomp = 1         # Total number of chemical species in simulation.  \n",
    "    mcomp = 1         # Total number of \"mobile\" species. \n",
    "    sconc= np.zeros((nlay, nrow, ncol), dtype=np.float32)  # initial conc. = 0 yrs   \n",
    "    nprs = 0          # Flag indicating frequency of output. = 0: results not saved except \n",
    "                      # at end of simulation; > 0: saved at times specified by timprs; < 0: saved\n",
    "                      # whenever the  number of transport steps is an even multiple of nprs.\n",
    "        \n",
    "    btn = mt3d.Mt3dBtn(mt, nlay=nlay, nrow=nrow, ncol=ncol, nper=nper, perlen=perlen, \n",
    "                           ncomp=ncomp, mcomp=mcomp, sconc=sconc, prsity=prsity,\n",
    "                           delr=delr, delc=delc, icbund=1, ifmtcn=-1, savucn=True,\n",
    "                           nprs=nprs, nprobs=1, cinact=0, ssflag='SState', laycon=1) \n",
    "        \n",
    "    #------------------------------------------------------------------------------\n",
    "    # ADVECTION PACKAGE\n",
    "        \n",
    "    adv = mt3d.Mt3dAdv(mt, mixelm=0)  \n",
    "        \n",
    "    # mixelm = 0 means that I am using the standard finite-difference method with upstream or \n",
    "    # central-in-stream weighting, depending on the value of NADVFD. \n",
    "    # Other options, MOC (1); MMOC (2); HMOC (3); TVD (-1). \n",
    "        \n",
    "    #------------------------------------------------------------------------------\n",
    "    # GENERALISED CONJUGATE GRADIENT SOLVER for MT3D-USGS\n",
    "        \n",
    "    gcg = mt3d.Mt3dGcg(mt, mxiter=30, iter1=50, isolve=2, accl=1, cclose=1e-06)\n",
    "        \n",
    "    #------------------------------------------------------------------------------\n",
    "    # REACTION PACKAGE\n",
    "        \n",
    "    rc1 = np.zeros((nlay, nrow, ncol), dtype=np.float32)\n",
    "    rc1[:, :, :] = -1/365.25\n",
    "        \n",
    "    isothm = 0      # 0 = no sorption.\n",
    "    ireact = 100    # 100 = zeroth-order reaction option.\n",
    "    rc1 = rc1       # First order reaction rate for diffolved phase of first species.\n",
    "        \n",
    "    rct= mt3d.Mt3dRct(mt, isothm=isothm, ireact=ireact, igetsc=0, rc1=rc1) \n",
    "        \n",
    "    #------------------------------------------------------------------------------\n",
    "    # SOURCE-SINK MIXING PACKAGE\n",
    "        \n",
    "    crch = np.zeros((nrow, ncol), dtype=np.float32) # The age of recharging water is 0\n",
    "        \n",
    "    itype = mt3d.Mt3dSsm.itype_dict()\n",
    "       \n",
    "    ssm = mt3d.Mt3dSsm(mt, crch=crch) #, stress_period_data=ssm_data) \n",
    "        \n",
    "    #------------------------------------------------------------------------------\n",
    "    # DISPERSION PACKAGE \n",
    "    al = 1.5 # The longitudinal dispersivity, default = 0.01\n",
    "\n",
    "#   trpt = 0.1  #ratio of horizontal transverse: longitudinal dispersivity, default = 0.1\n",
    "#   trpv = 0.01 #ratio of vertical transverse dispersivity: longitudinal dispersivity, default = 0.01\n",
    "    dmcoef = 1E-4*tortuosity_factor # Effective molecular diffusion coefficient (for water in my model), default = 1E-9 m2/s\n",
    "        \n",
    "    # Instantiate up the Dispersion package for MT3D-USGS\n",
    "    dsp = mt3d.Mt3dDsp(mt, al=al, dmcoef=dmcoef) \n",
    "        \n",
    "    #----- WRITING transport MODEL ------------------------------------------------\n",
    "         \n",
    "    mt.write_input()\n",
    "    mt.write_name_file()\n",
    "        \n",
    "    # - - - - - - - - - - - - - - - - - - - - - - - - - - - - - - - - - - - - - - -\n",
    "    # -- -- -- -- -- -- -- -- -- -- -- -- -- -- -- -- -- -- -- -- -- -- -- -- -- --\n",
    "    # \"Manual\" changes to the input files\n",
    "    conc_filename_dissolved = str(modelname_mt) + \".ucn\"\n",
    "    conc_filename_sorbed = str(modelname_mt) + \"_S.ucn\"\n",
    "    mass_filename = str(modelname_mt) + \".mas\"\n",
    "    cnf_filename = str(modelname_mt) + \".cnf\"\n",
    "        \n",
    "    ##Add a line to the MT3D .mtnam file re-naming output UCN file + MAS,CNF\n",
    "    mt_name_file = modelname_mt + str('.mtnam')\n",
    "        \n",
    "    namfile = open(mt_name_file, 'a')\n",
    "    namfile.write('data(binary) 201 %s \\n' %(conc_filename_dissolved))\n",
    "    namfile.close()\n",
    "        \n",
    "    namfile = open(mt_name_file, 'a')\n",
    "    namfile.write('data(binary) 301 %s \\n' %(conc_filename_sorbed))\n",
    "    namfile.close()\n",
    "              \n",
    "    namfile = open(mt_name_file, 'a')\n",
    "    namfile.write('data 601 %s \\n' %(mass_filename))\n",
    "    namfile.close()\n",
    "        \n",
    "    namfile = open(mt_name_file, 'a')\n",
    "    namfile.write('data 17 %s \\n' %(cnf_filename))\n",
    "    namfile.close()\n",
    "                \n",
    "    ###For USGS need to add DRYCELL keyword to the .btn file on line 3\n",
    "    mt_btn_file = modelname_mt + str('.btn')\n",
    "        \n",
    "\n",
    "    btnfile = open(mt_btn_file, \"r\")\n",
    "    contents = btnfile.readlines()\n",
    "    btnfile.close()\n",
    "    contents.insert(2, \"DRYCELL \\n\")\n",
    "    btnfile = open(mt_btn_file, \"w\")\n",
    "    contents = \"\".join(contents)\n",
    "    btnfile.write(contents)\n",
    "    btnfile.close()\n",
    "        \n",
    "    # ADD SSTATE FLAG manually in correct spot\n",
    "\n",
    "    fpath = os.path.join(this_model_folder, mt_btn_file)\n",
    "    with open(mt_btn_file, 'r+') as f:\n",
    "        lines = f.readlines()\n",
    "        f.seek(0)\n",
    "        f.truncate()\n",
    "\n",
    "        a = '%.1E' % Decimal(length_simulation)\n",
    "        if length_simulation == 1:\n",
    "            b = \"1         1         1 S\"\n",
    "            c = \"1         1         1         SState\"\n",
    "        else:\n",
    "            b = str(a) + \"         1         1 S\"\n",
    "            c = str(a) + \"         1         1         SState\"\n",
    "\n",
    "        ##\n",
    "\n",
    "        for line in lines:\n",
    "            if b in line:\n",
    "                            line = line.replace(b, c)\n",
    "            f.write(line)\n",
    "            \n",
    "        # Running the transport model\n",
    "        #--------------------------------\n",
    "        success, buff = mt.run_model()\n",
    "        print(\"Transport model has been run\")\n",
    "        #-------------------------------- "
   ]
  },
  {
   "cell_type": "markdown",
   "metadata": {},
   "source": [
    "## Saving information about the model \n",
    "\n",
    "I saved two per column, because I didn't know how to save only one item in the pandas DataFrame and I found this a useful way to access the details of the model run, as I ran lots of different models and wanted to readily compare output."
   ]
  },
  {
   "cell_type": "code",
   "execution_count": null,
   "metadata": {},
   "outputs": [],
   "source": [
    "now = datetime.datetime.now()\n",
    "model_inputs = pd.DataFrame({\n",
    "            \"a_model_name\": [str(modelName), str(modelName_mt)],\n",
    "            \"date_simulation\": [str(now.strftime(\"%Y-%m-%d %H:%M\")), str(now.strftime(\"%Y-%m-%d %H:%M\"))],\n",
    "            \"hk_aquifer\": [hk_aquifer, hk_aquifer],\n",
    "            \"hk_barrier\": [hk_barrier, hk_barrier],\n",
    "            \"model_spacing\": [delr, delr],\n",
    "            \"number_layers\": [nlay, nlay],\n",
    "            \"length_x\": [Lx, Lx],\n",
    "            \"length_y\": [Ly, Ly],\n",
    "            \"thickness\": [ztop, ztop],\n",
    "            \"starting_head\": [sHead, sHead],\n",
    "            \"specific_yield\": [sy, sy],\n",
    "            \"specific_storage\": [ss, ss],\n",
    "            \"porosity\": [prsity, prsity],\n",
    "            \"recharge_total_per_y\": [total_recharge_per_y, total_recharge_per_y], \n",
    "            \"length_simulation\": [length_simulation, length_simulation],\n",
    "            \"run_time\": [run_time, run_time],\n",
    "            \"superComp\": [am_I_running_on_supercomputer, am_I_running_on_supercomputer]\n",
    "                                        })\n",
    "\n",
    "fileName = os.path.join(this_model_folder, 'model_inputs.csv')\n",
    "model_inputs.to_csv(fileName, encoding='utf-8')"
   ]
  }
 ],
 "metadata": {
  "kernelspec": {
   "display_name": "Python 3",
   "language": "python",
   "name": "python3"
  },
  "language_info": {
   "codemirror_mode": {
    "name": "ipython",
    "version": 3
   },
   "file_extension": ".py",
   "mimetype": "text/x-python",
   "name": "python",
   "nbconvert_exporter": "python",
   "pygments_lexer": "ipython3",
   "version": "3.7.4"
  }
 },
 "nbformat": 4,
 "nbformat_minor": 4
}
